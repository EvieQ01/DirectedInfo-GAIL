{
 "cells": [
  {
   "cell_type": "code",
   "execution_count": 1,
   "metadata": {},
   "outputs": [
    {
     "name": "stderr",
     "output_type": "stream",
     "text": [
      "/home/arjun/anaconda3/lib/python3.6/site-packages/h5py/__init__.py:36: FutureWarning: Conversion of the second argument of issubdtype from `float` to `np.floating` is deprecated. In future, it will be treated as `np.float64 == np.dtype(float).type`.\n",
      "  from ._conv import register_converters as _register_converters\n"
     ]
    }
   ],
   "source": [
    "% matplotlib inline\n",
    "\n",
    "import numpy as np\n",
    "import pandas as pd\n",
    "import json\n",
    "import sys\n",
    "import os\n",
    "import matplotlib\n",
    "#matplotlib.use('Agg') \n",
    "import matplotlib.pyplot as plt\n",
    "from mpl_toolkits.mplot3d import Axes3D\n",
    "from matplotlib import cm\n",
    "from matplotlib.ticker import LinearLocator, FormatStrFormatter\n",
    "import seaborn as sns\n",
    "import pdb\n",
    "#import ipdb\n",
    "import h5py\n",
    "import importlib\n",
    "import pickle\n",
    "import math\n",
    "\n",
    "# Add root folder to sys path\n",
    "sys.path.append(\"../\")\n",
    "\n",
    "# %pylab inline\n",
    "# inline doesn't give interactive plots\n",
    "%matplotlib inline \n",
    "# %matplotlib notebook\n",
    "plt.rcParams['figure.figsize'] = (12.0, 12.0) # set default size of plots\n",
    "plt.rcParams['image.interpolation'] = 'nearest'\n",
    "plt.rcParams['image.cmap'] = 'Blues'\n",
    "\n",
    "sns.set()\n",
    "\n",
    "# for auto-reloading external modules\n",
    "# see http://stackoverflow.com/questions/1907993/autoreload-of-modules-in-ipython\n",
    "%load_ext autoreload\n",
    "%autoreload 2\n",
    "\n",
    "# Import own modules\n",
    "# Need to use importlib since module starts with a numerical value."
   ]
  },
  {
   "cell_type": "code",
   "execution_count": 2,
   "metadata": {
    "scrolled": false
   },
   "outputs": [
    {
     "data": {
      "image/png": "[encoded data removed]",
      "text/plain": [
       "<matplotlib.figure.Figure at 0x7fbdbe63a128>"
      ]
     },
     "metadata": {},
     "output_type": "display_data"
    }
   ],
   "source": [
    "def draw_circle(centre, w, r, direction=1, T = 120, theta_offset = 0):\n",
    "    c_x = centre[0]\n",
    "    c_y = centre[1]\n",
    "    theta_offset = math.radians(theta_offset)\n",
    "    \n",
    "    list_of_points = []\n",
    "    \n",
    "    old_x = c_x + r * math.sin(theta_offset)\n",
    "    old_y = c_y - r * math.cos(theta_offset)\n",
    "    list_of_points.append((old_x, old_y))\n",
    "    \n",
    "    for t in range(1, T):\n",
    "        theta = math.radians(w * t * direction)\n",
    "        new_x = c_x + r * math.sin(theta + theta_offset)\n",
    "        new_y = c_y - r * math.cos(theta + theta_offset)\n",
    "        \n",
    "        del_x = new_x - old_x # normalize these to unit vectors to get actions\n",
    "        del_y = new_y - old_y\n",
    "        \n",
    "        old_x = new_x\n",
    "        old_y = new_y\n",
    "        list_of_points.append((old_x, old_y))\n",
    "        \n",
    "    return list_of_points\n",
    "\n",
    "centre1 = (0.0, 0.0)\n",
    "r1 = 5\n",
    "w1 = 3\n",
    "T1 = 120\n",
    "circle_1 = draw_circle(centre = centre1, w = w1, r = r1, direction=1, T = T1, theta_offset = 0)\n",
    "\n",
    "centre2 = (0.0, -8.0)\n",
    "r2 = 3\n",
    "w2 = 3\n",
    "T2 = 120\n",
    "circle_2 = draw_circle(centre = centre2, w = w2, r = r2, direction=-1, T = T2, theta_offset = 180)\n",
    "\n",
    "centre3 = (0.0, -2.0)\n",
    "r3 = 3\n",
    "w3 = 3\n",
    "T3 = 120\n",
    "circle_3 = draw_circle(centre = centre3, w = w3, r = r3, direction=1, T = T3, theta_offset = 0)\n",
    "\n",
    "x_list = []\n",
    "y_list = []\n",
    "for i in range(len(circle_1)):\n",
    "    x_list.append(circle_1[i][0])\n",
    "    y_list.append(circle_1[i][1])\n",
    "for i in range(len(circle_2)):\n",
    "    x_list.append(circle_2[i][0])\n",
    "    y_list.append(circle_2[i][1])\n",
    "for i in range(len(circle_3)):\n",
    "    x_list.append(circle_3[i][0])\n",
    "    y_list.append(circle_3[i][1])\n",
    "    \n",
    "colors = cm.rainbow(np.linspace(0, 1, len(x_list)))\n",
    "plt.scatter(x_list, y_list, color=colors) \n",
    "plt.axis('equal')    \n",
    "plt.show()\n",
    "        "
   ]
  }
 ],
 "metadata": {
  "kernelspec": {
   "display_name": "Python 3",
   "language": "python",
   "name": "python3"
  },
  "language_info": {
   "codemirror_mode": {
    "name": "ipython",
    "version": 3
   },
   "file_extension": ".py",
   "mimetype": "text/x-python",
   "name": "python",
   "nbconvert_exporter": "python",
   "pygments_lexer": "ipython3",
   "version": "3.6.4"
  }
 },
 "nbformat": 4,
 "nbformat_minor": 2
}
