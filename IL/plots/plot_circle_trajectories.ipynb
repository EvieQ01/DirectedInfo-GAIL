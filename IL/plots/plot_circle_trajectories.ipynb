{
 "cells": [
  {
   "cell_type": "code",
   "execution_count": 1,
   "metadata": {},
   "outputs": [
    {
     "name": "stderr",
     "output_type": "stream",
     "text": [
      "/home/mohit/anaconda3/lib/python3.6/site-packages/h5py/__init__.py:36: FutureWarning: Conversion of the second argument of issubdtype from `float` to `np.floating` is deprecated. In future, it will be treated as `np.float64 == np.dtype(float).type`.\n",
      "  from ._conv import register_converters as _register_converters\n"
     ]
    }
   ],
   "source": [
    "% matplotlib inline\n",
    "\n",
    "import numpy as np\n",
    "import pandas as pd\n",
    "import json\n",
    "import sys\n",
    "import os\n",
    "import matplotlib\n",
    "#matplotlib.use('Agg') \n",
    "import matplotlib.pyplot as plt\n",
    "from mpl_toolkits.mplot3d import Axes3D\n",
    "from matplotlib import cm\n",
    "from matplotlib.ticker import LinearLocator, FormatStrFormatter\n",
    "import seaborn as sns\n",
    "import pdb\n",
    "#import ipdb\n",
    "import h5py\n",
    "import importlib\n",
    "import pickle\n",
    "import math\n",
    "\n",
    "# Add root folder to sys path\n",
    "sys.path.append(\"../\")\n",
    "\n",
    "from load_expert_traj import recursively_save_dict_contents_to_group\n",
    "\n",
    "# %pylab inline\n",
    "# inline doesn't give interactive plots\n",
    "%matplotlib inline \n",
    "# %matplotlib notebook\n",
    "plt.rcParams['figure.figsize'] = (6.0, 6.0) # set default size of plots\n",
    "plt.rcParams['image.interpolation'] = 'nearest'\n",
    "plt.rcParams['image.cmap'] = 'Blues'\n",
    "\n",
    "sns.set()\n",
    "\n",
    "# for auto-reloading external modules\n",
    "# see http://stackoverflow.com/questions/1907993/autoreload-of-modules-in-ipython\n",
    "%load_ext autoreload\n",
    "%autoreload 2\n",
    "\n",
    "# Import own modules\n",
    "# Need to use importlib since module starts with a numerical value."
   ]
  },
  {
   "cell_type": "code",
   "execution_count": 2,
   "metadata": {
    "scrolled": false
   },
   "outputs": [
    {
     "name": "stdout",
     "output_type": "stream",
     "text": [
      "> <ipython-input-2-c2c8c89379ae>(49)<module>()\n",
      "-> traj_context = np.reshape(traj_context, (traj_state.shape[0], -1))\n",
      "(Pdb) type(traj_state)\n",
      "<class 'list'>\n",
      "(Pdb) traj_state[0]\n",
      "[array([[ 0.      , -4.720506]], dtype=float32), array([[ 0.17576152, -4.8942833 ]], dtype=float32), array([[ 0.35157564, -5.068007  ]], dtype=float32), array([[ 0.5273905, -5.24173  ]], dtype=float32), array([[ 0.7032059, -5.415453 ]], dtype=float32), array([[ 0.87902176, -5.589175  ]], dtype=float32), array([[ 1.0548381, -5.762897 ]], dtype=float32), array([[ 1.2306547, -5.9366183]], dtype=float32), array([[ 1.4064717, -6.110339 ]], dtype=float32), array([[ 1.5822891, -6.2840595]], dtype=float32), array([[ 1.7581068, -6.45778  ]], dtype=float32), array([[ 1.9339248, -6.6315   ]], dtype=float32), array([[ 2.1097429, -6.8052197]], dtype=float32), array([[ 2.2855613, -6.978939 ]], dtype=float32), array([[ 2.4613798, -7.1526585]], dtype=float32), array([[ 2.6371984, -7.326378 ]], dtype=float32), array([[ 2.8130171, -7.5000973]], dtype=float32), array([[ 2.988836, -7.673816]], dtype=float32), array([[ 3.164655, -7.847535]], dtype=float32), array([[ 3.3404741, -8.021254 ]], dtype=float32), array([[ 3.5162933, -8.194972 ]], dtype=float32), array([[ 3.6921124, -8.3686905]], dtype=float32), array([[ 3.8679318, -8.542409 ]], dtype=float32), array([[ 4.0437512, -8.716127 ]], dtype=float32), array([[ 4.2195706, -8.889846 ]], dtype=float32), array([[ 4.39539 , -9.063564]], dtype=float32), array([[ 4.5712094, -9.237283 ]], dtype=float32), array([[ 4.747029, -9.411001]], dtype=float32), array([[ 4.922848, -9.58472 ]], dtype=float32), array([[ 5.098668, -9.758438]], dtype=float32), array([[ 5.274488, -9.932157]], dtype=float32), array([[  5.450308, -10.105875]], dtype=float32), array([[  5.6261277, -10.279593 ]], dtype=float32), array([[  5.8019476, -10.453312 ]], dtype=float32), array([[  5.9777675, -10.62703  ]], dtype=float32), array([[  6.1535873, -10.800749 ]], dtype=float32), array([[  6.329407, -10.974467]], dtype=float32), array([[  6.505227, -11.148186]], dtype=float32), array([[  6.681047, -11.321904]], dtype=float32), array([[  6.856867, -11.495623]], dtype=float32), array([[  7.0326867, -11.669341 ]], dtype=float32), array([[  7.2085066, -11.84306  ]], dtype=float32), array([[  7.3843265, -12.016778 ]], dtype=float32), array([[  7.5601463, -12.190496 ]], dtype=float32), array([[  7.7359657, -12.364215 ]], dtype=float32), array([[  7.911785, -12.537933]], dtype=float32), array([[  8.0876045, -12.711652 ]], dtype=float32), array([[  8.263424, -12.88537 ]], dtype=float32), array([[  8.439243, -13.059089]], dtype=float32), array([[  8.615063, -13.232807]], dtype=float32), array([[  8.790882, -13.406527]], dtype=float32), array([[  8.966701, -13.580246]], dtype=float32), array([[  9.142519, -13.753965]], dtype=float32), array([[  9.318337, -13.927685]], dtype=float32), array([[  9.494156, -14.101405]], dtype=float32), array([[  9.669973 , -14.2751255]], dtype=float32), array([[  9.845791, -14.448846]], dtype=float32), array([[ 10.02161 , -14.622564]], dtype=float32), array([[ 10.197427, -14.796286]], dtype=float32), array([[ 10.373242, -14.970008]], dtype=float32), array([[ 10.549062, -15.143726]], dtype=float32), array([[ 10.724881, -15.317445]], dtype=float32), array([[ 10.9007015, -15.491163 ]], dtype=float32), array([[ 11.076522, -15.664881]], dtype=float32), array([[ 11.252342, -15.838598]], dtype=float32), array([[ 11.428163, -16.012316]], dtype=float32), array([[ 11.603982, -16.186033]], dtype=float32), array([[ 11.779802, -16.35975 ]], dtype=float32), array([[ 11.955623, -16.533468]], dtype=float32), array([[ 12.131443, -16.707186]], dtype=float32), array([[ 12.307263, -16.880903]], dtype=float32), array([[ 12.483084, -17.05462 ]], dtype=float32), array([[ 12.658904, -17.228338]], dtype=float32), array([[ 12.834724, -17.402056]], dtype=float32), array([[ 13.010545, -17.575773]], dtype=float32), array([[ 13.186365, -17.74949 ]], dtype=float32), array([[ 13.3621855, -17.923208 ]], dtype=float32), array([[ 13.538006, -18.096926]], dtype=float32), array([[ 13.713826, -18.270643]], dtype=float32), array([[ 13.889647, -18.44436 ]], dtype=float32), array([[ 14.065467, -18.618078]], dtype=float32), array([[ 14.241287, -18.791796]], dtype=float32), array([[ 14.417108, -18.965513]], dtype=float32), array([[ 14.592928, -19.13923 ]], dtype=float32), array([[ 14.768748, -19.312948]], dtype=float32), array([[ 14.944569, -19.486666]], dtype=float32), array([[ 15.120389, -19.660383]], dtype=float32), array([[ 15.296209, -19.8341  ]], dtype=float32), array([[ 15.47203 , -20.007818]], dtype=float32), array([[ 15.64785 , -20.181536]], dtype=float32), array([[ 15.82367 , -20.355253]], dtype=float32), array([[ 15.999491, -20.52897 ]], dtype=float32), array([[ 16.17531 , -20.702688]], dtype=float32), array([[ 16.35113 , -20.876406]], dtype=float32), array([[ 16.526949, -21.050123]], dtype=float32), array([[ 16.702768, -21.22384 ]], dtype=float32), array([[ 16.878588, -21.397558]], dtype=float32), array([[ 17.054407, -21.571276]], dtype=float32), array([[ 17.230227, -21.744993]], dtype=float32), array([[ 17.406046, -21.91871 ]], dtype=float32), array([[ 17.581865, -22.092428]], dtype=float32), array([[ 17.757685, -22.266146]], dtype=float32), array([[ 17.933504, -22.439863]], dtype=float32), array([[ 18.109324, -22.61358 ]], dtype=float32), array([[ 18.285143, -22.787298]], dtype=float32), array([[ 18.460962, -22.961016]], dtype=float32), array([[ 18.636782, -23.134733]], dtype=float32), array([[ 18.812601, -23.30845 ]], dtype=float32), array([[ 18.98842 , -23.482168]], dtype=float32), array([[ 19.16424 , -23.655886]], dtype=float32), array([[ 19.34006 , -23.829603]], dtype=float32), array([[ 19.515879, -24.00332 ]], dtype=float32), array([[ 19.691698, -24.177038]], dtype=float32), array([[ 19.867517, -24.350756]], dtype=float32), array([[ 20.043337, -24.524473]], dtype=float32), array([[ 20.219156, -24.69819 ]], dtype=float32), array([[ 20.394976, -24.871908]], dtype=float32), array([[ 20.570795, -25.045626]], dtype=float32), array([[ 20.746614, -25.219343]], dtype=float32)]\n",
      "(Pdb) type(traj_state[0])\n",
      "<class 'list'>\n",
      "(Pdb) type(traj_state[0][0])\n",
      "<class 'numpy.ndarray'>\n",
      "(Pdb) traj_state[0][0].shape\n",
      "(1, 2)\n",
      "(Pdb) len(traj_state[0])\n",
      "119\n",
      "(Pdb) q\n"
     ]
    },
    {
     "ename": "BdbQuit",
     "evalue": "",
     "output_type": "error",
     "traceback": [
      "\u001b[0;31m---------------------------------------------------------------------------\u001b[0m",
      "\u001b[0;31mBdbQuit\u001b[0m                                   Traceback (most recent call last)",
      "\u001b[0;32m<ipython-input-2-c2c8c89379ae>\u001b[0m in \u001b[0;36m<module>\u001b[0;34m()\u001b[0m\n\u001b[1;32m     47\u001b[0m     \u001b[0mtraj_context\u001b[0m \u001b[0;34m=\u001b[0m \u001b[0mresults_data\u001b[0m\u001b[0;34m[\u001b[0m\u001b[0;34m'pred_context'\u001b[0m\u001b[0;34m]\u001b[0m\u001b[0;34m[\u001b[0m\u001b[0mi\u001b[0m\u001b[0;34m]\u001b[0m\u001b[0;34m\u001b[0m\u001b[0m\n\u001b[1;32m     48\u001b[0m     \u001b[0mpdb\u001b[0m\u001b[0;34m.\u001b[0m\u001b[0mset_trace\u001b[0m\u001b[0;34m(\u001b[0m\u001b[0;34m)\u001b[0m\u001b[0;34m\u001b[0m\u001b[0m\n\u001b[0;32m---> 49\u001b[0;31m     \u001b[0mtraj_context\u001b[0m \u001b[0;34m=\u001b[0m \u001b[0mnp\u001b[0m\u001b[0;34m.\u001b[0m\u001b[0mreshape\u001b[0m\u001b[0;34m(\u001b[0m\u001b[0mtraj_context\u001b[0m\u001b[0;34m,\u001b[0m \u001b[0;34m(\u001b[0m\u001b[0mtraj_state\u001b[0m\u001b[0;34m.\u001b[0m\u001b[0mshape\u001b[0m\u001b[0;34m[\u001b[0m\u001b[0;36m0\u001b[0m\u001b[0;34m]\u001b[0m\u001b[0;34m,\u001b[0m \u001b[0;34m-\u001b[0m\u001b[0;36m1\u001b[0m\u001b[0;34m)\u001b[0m\u001b[0;34m)\u001b[0m\u001b[0;34m\u001b[0m\u001b[0m\n\u001b[0m\u001b[1;32m     50\u001b[0m     \u001b[0mtraj_context_label\u001b[0m \u001b[0;34m=\u001b[0m \u001b[0mnp\u001b[0m\u001b[0;34m.\u001b[0m\u001b[0margmax\u001b[0m\u001b[0;34m(\u001b[0m\u001b[0mtraj_context\u001b[0m\u001b[0;34m,\u001b[0m \u001b[0maxis\u001b[0m\u001b[0;34m=\u001b[0m\u001b[0;36m1\u001b[0m\u001b[0;34m)\u001b[0m\u001b[0;34m\u001b[0m\u001b[0m\n\u001b[1;32m     51\u001b[0m     \u001b[0mtraj_context_color\u001b[0m \u001b[0;34m=\u001b[0m \u001b[0;34m[\u001b[0m\u001b[0mcontext_colors\u001b[0m\u001b[0;34m[\u001b[0m\u001b[0mi\u001b[0m\u001b[0;34m]\u001b[0m \u001b[0;32mfor\u001b[0m \u001b[0mi\u001b[0m \u001b[0;32min\u001b[0m \u001b[0mtraj_context_label\u001b[0m\u001b[0;34m]\u001b[0m\u001b[0;34m\u001b[0m\u001b[0m\n",
      "\u001b[0;32m<ipython-input-2-c2c8c89379ae>\u001b[0m in \u001b[0;36m<module>\u001b[0;34m()\u001b[0m\n\u001b[1;32m     47\u001b[0m     \u001b[0mtraj_context\u001b[0m \u001b[0;34m=\u001b[0m \u001b[0mresults_data\u001b[0m\u001b[0;34m[\u001b[0m\u001b[0;34m'pred_context'\u001b[0m\u001b[0;34m]\u001b[0m\u001b[0;34m[\u001b[0m\u001b[0mi\u001b[0m\u001b[0;34m]\u001b[0m\u001b[0;34m\u001b[0m\u001b[0m\n\u001b[1;32m     48\u001b[0m     \u001b[0mpdb\u001b[0m\u001b[0;34m.\u001b[0m\u001b[0mset_trace\u001b[0m\u001b[0;34m(\u001b[0m\u001b[0;34m)\u001b[0m\u001b[0;34m\u001b[0m\u001b[0m\n\u001b[0;32m---> 49\u001b[0;31m     \u001b[0mtraj_context\u001b[0m \u001b[0;34m=\u001b[0m \u001b[0mnp\u001b[0m\u001b[0;34m.\u001b[0m\u001b[0mreshape\u001b[0m\u001b[0;34m(\u001b[0m\u001b[0mtraj_context\u001b[0m\u001b[0;34m,\u001b[0m \u001b[0;34m(\u001b[0m\u001b[0mtraj_state\u001b[0m\u001b[0;34m.\u001b[0m\u001b[0mshape\u001b[0m\u001b[0;34m[\u001b[0m\u001b[0;36m0\u001b[0m\u001b[0;34m]\u001b[0m\u001b[0;34m,\u001b[0m \u001b[0;34m-\u001b[0m\u001b[0;36m1\u001b[0m\u001b[0;34m)\u001b[0m\u001b[0;34m)\u001b[0m\u001b[0;34m\u001b[0m\u001b[0m\n\u001b[0m\u001b[1;32m     50\u001b[0m     \u001b[0mtraj_context_label\u001b[0m \u001b[0;34m=\u001b[0m \u001b[0mnp\u001b[0m\u001b[0;34m.\u001b[0m\u001b[0margmax\u001b[0m\u001b[0;34m(\u001b[0m\u001b[0mtraj_context\u001b[0m\u001b[0;34m,\u001b[0m \u001b[0maxis\u001b[0m\u001b[0;34m=\u001b[0m\u001b[0;36m1\u001b[0m\u001b[0;34m)\u001b[0m\u001b[0;34m\u001b[0m\u001b[0m\n\u001b[1;32m     51\u001b[0m     \u001b[0mtraj_context_color\u001b[0m \u001b[0;34m=\u001b[0m \u001b[0;34m[\u001b[0m\u001b[0mcontext_colors\u001b[0m\u001b[0;34m[\u001b[0m\u001b[0mi\u001b[0m\u001b[0;34m]\u001b[0m \u001b[0;32mfor\u001b[0m \u001b[0mi\u001b[0m \u001b[0;32min\u001b[0m \u001b[0mtraj_context_label\u001b[0m\u001b[0;34m]\u001b[0m\u001b[0;34m\u001b[0m\u001b[0m\n",
      "\u001b[0;32m~/anaconda3/lib/python3.6/bdb.py\u001b[0m in \u001b[0;36mtrace_dispatch\u001b[0;34m(self, frame, event, arg)\u001b[0m\n\u001b[1;32m     46\u001b[0m             \u001b[0;32mreturn\u001b[0m \u001b[0;31m# None\u001b[0m\u001b[0;34m\u001b[0m\u001b[0m\n\u001b[1;32m     47\u001b[0m         \u001b[0;32mif\u001b[0m \u001b[0mevent\u001b[0m \u001b[0;34m==\u001b[0m \u001b[0;34m'line'\u001b[0m\u001b[0;34m:\u001b[0m\u001b[0;34m\u001b[0m\u001b[0m\n\u001b[0;32m---> 48\u001b[0;31m             \u001b[0;32mreturn\u001b[0m \u001b[0mself\u001b[0m\u001b[0;34m.\u001b[0m\u001b[0mdispatch_line\u001b[0m\u001b[0;34m(\u001b[0m\u001b[0mframe\u001b[0m\u001b[0;34m)\u001b[0m\u001b[0;34m\u001b[0m\u001b[0m\n\u001b[0m\u001b[1;32m     49\u001b[0m         \u001b[0;32mif\u001b[0m \u001b[0mevent\u001b[0m \u001b[0;34m==\u001b[0m \u001b[0;34m'call'\u001b[0m\u001b[0;34m:\u001b[0m\u001b[0;34m\u001b[0m\u001b[0m\n\u001b[1;32m     50\u001b[0m             \u001b[0;32mreturn\u001b[0m \u001b[0mself\u001b[0m\u001b[0;34m.\u001b[0m\u001b[0mdispatch_call\u001b[0m\u001b[0;34m(\u001b[0m\u001b[0mframe\u001b[0m\u001b[0;34m,\u001b[0m \u001b[0marg\u001b[0m\u001b[0;34m)\u001b[0m\u001b[0;34m\u001b[0m\u001b[0m\n",
      "\u001b[0;32m~/anaconda3/lib/python3.6/bdb.py\u001b[0m in \u001b[0;36mdispatch_line\u001b[0;34m(self, frame)\u001b[0m\n\u001b[1;32m     65\u001b[0m         \u001b[0;32mif\u001b[0m \u001b[0mself\u001b[0m\u001b[0;34m.\u001b[0m\u001b[0mstop_here\u001b[0m\u001b[0;34m(\u001b[0m\u001b[0mframe\u001b[0m\u001b[0;34m)\u001b[0m \u001b[0;32mor\u001b[0m \u001b[0mself\u001b[0m\u001b[0;34m.\u001b[0m\u001b[0mbreak_here\u001b[0m\u001b[0;34m(\u001b[0m\u001b[0mframe\u001b[0m\u001b[0;34m)\u001b[0m\u001b[0;34m:\u001b[0m\u001b[0;34m\u001b[0m\u001b[0m\n\u001b[1;32m     66\u001b[0m             \u001b[0mself\u001b[0m\u001b[0;34m.\u001b[0m\u001b[0muser_line\u001b[0m\u001b[0;34m(\u001b[0m\u001b[0mframe\u001b[0m\u001b[0;34m)\u001b[0m\u001b[0;34m\u001b[0m\u001b[0m\n\u001b[0;32m---> 67\u001b[0;31m             \u001b[0;32mif\u001b[0m \u001b[0mself\u001b[0m\u001b[0;34m.\u001b[0m\u001b[0mquitting\u001b[0m\u001b[0;34m:\u001b[0m \u001b[0;32mraise\u001b[0m \u001b[0mBdbQuit\u001b[0m\u001b[0;34m\u001b[0m\u001b[0m\n\u001b[0m\u001b[1;32m     68\u001b[0m         \u001b[0;32mreturn\u001b[0m \u001b[0mself\u001b[0m\u001b[0;34m.\u001b[0m\u001b[0mtrace_dispatch\u001b[0m\u001b[0;34m\u001b[0m\u001b[0m\n\u001b[1;32m     69\u001b[0m \u001b[0;34m\u001b[0m\u001b[0m\n",
      "\u001b[0;31mBdbQuit\u001b[0m: "
     ]
    }
   ],
   "source": [
    "def softmax(x):\n",
    "    if len(x.shape) == 2:\n",
    "        new_x = x - np.max(x,axis=1)[:, np.newaxis]\n",
    "        denom = np.sum(np.exp(new_x), axis = 1)[:, np.newaxis]\n",
    "        return np.exp(new_x)/denom\n",
    "    elif len(x.shape) == 1:\n",
    "        new_x = x - np.max(x)\n",
    "        denom = np.sum(np.exp(new_x))\n",
    "        return np.exp(new_x) / denom\n",
    "    else:\n",
    "        raise ValueError(\"incorrect softmax input\")\n",
    "                              \n",
    "def plot_circle(x_list, y_list, colors, title='', move_centre=False):\n",
    "    T = 60\n",
    "    if move_centre:\n",
    "        shift = 15\n",
    "        x_list_new = [x_list[i] + shift for i in range(T, len(x_list))]\n",
    "        x_list = x_list[:T] + x_list_new\n",
    "    plt.scatter(x_list, y_list, color=colors) \n",
    "    plt.axis('equal')    \n",
    "    plt.title(title)\n",
    "    plt.show()\n",
    "\n",
    "    \n",
    "# results_pkl_path = '../results/circle/vae/epoch_400_traj_40_meta_2_r_0.011_Aug_6_5_50_PM/results_cp_400.pkl'\n",
    "# results_pkl_path = '../results/vae/tmp/meta_1_traj_50_traj_len_180_policy_output_normalized_context_3_goal_1_history_5_epoch_1000_temperature_5_noisy_next_state_lr_1e-4/results_cp_500.pkl'\n",
    "# results_pkl_path = '../results/vae/tmp/meta_1_traj_50_traj_len_180_policy_output_normalized_context_2_goal_1_history_5_epoch_1000_temperature_5_noisy_next_state_lr_1e-4/results_605.pkl'\n",
    "# results_pkl_path = '../results/vae/tmp/meta_1_traj_50_traj_len_180_policy_output_normalized_context_2_goal_1_history_5_epoch_1000_temperature_5_no_noisy_next_state_lr_1e-4/results_cp_800.pkl'\n",
    "# results_pkl_path = '../results/vae/tmp/meta_1_traj_50_traj_len_180_policy_output_normalized_context_3_goal_1_history_5_epoch_1000_temperature_5_noisy_next_state/results_cp_1500.pkl'\n",
    "\n",
    "results_pkl_path = '../results/circle/vae/traj_meta_1_traj_100_opposite_circles_equal_radii_epoch_1000_batch_64_1-cos_cos_wt_ratio_50/results_1000.pkl'\n",
    "results_pkl_path = '../results/circle/gail/meta_1_traj_100_opposite_circles_equal_radii_action_policy_output_normalized_context_2_goal_1_posterior_lambda_0.1_history_1/results_cp_1200.pkl'\n",
    "\n",
    "with open(results_pkl_path, 'rb') as results_f:\n",
    "    results_data = pickle.load(results_f)\n",
    "\n",
    "num_trajs = len(results_data['pred_traj_state'])\n",
    "context_colors = ['g', 'b', 'r', 'm', 'y', 'c', 'k', 'w']\n",
    "#markers = ['.', 'v', 'o', 's']\n",
    "\n",
    "# pdb.set_trace()\n",
    "\n",
    "x_pos_list, y_pos_list, c_list = [], [], []\n",
    "for i in range(num_trajs):\n",
    "    traj_state = results_data['pred_traj_state'][i]\n",
    "    traj_action = results_data['pred_traj_action'][i]\n",
    "    traj_context = results_data['pred_context'][i]\n",
    "    pdb.set_trace()\n",
    "    traj_context = np.reshape(traj_context, (traj_state.shape[0], -1))\n",
    "    traj_context_label = np.argmax(traj_context, axis=1)\n",
    "    traj_context_color = [context_colors[i] for i in traj_context_label]\n",
    "    plot_circle(traj_state[:, 0].tolist(), traj_state[:, 1].tolist(),\n",
    "                traj_context_color,\n",
    "                move_centre=True)\n",
    "    plt.plot(traj_context_label)\n",
    "    plt.show()"
   ]
  }
 ],
 "metadata": {
  "kernelspec": {
   "display_name": "Python 3",
   "language": "python",
   "name": "python3"
  },
  "language_info": {
   "codemirror_mode": {
    "name": "ipython",
    "version": 3
   },
   "file_extension": ".py",
   "mimetype": "text/x-python",
   "name": "python",
   "nbconvert_exporter": "python",
   "pygments_lexer": "ipython3",
   "version": "3.6.4"
  }
 },
 "nbformat": 4,
 "nbformat_minor": 2
}
