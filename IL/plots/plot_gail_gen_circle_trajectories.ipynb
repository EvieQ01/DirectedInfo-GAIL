{
 "cells": [
  {
   "cell_type": "code",
   "execution_count": 1,
   "metadata": {},
   "outputs": [
    {
     "name": "stderr",
     "output_type": "stream",
     "text": [
      "/home/mohit/anaconda3/lib/python3.6/site-packages/h5py/__init__.py:36: FutureWarning: Conversion of the second argument of issubdtype from `float` to `np.floating` is deprecated. In future, it will be treated as `np.float64 == np.dtype(float).type`.\n",
      "  from ._conv import register_converters as _register_converters\n"
     ]
    }
   ],
   "source": [
    "% matplotlib inline\n",
    "\n",
    "import numpy as np\n",
    "import pandas as pd\n",
    "import json\n",
    "import sys\n",
    "import os\n",
    "import matplotlib\n",
    "#matplotlib.use('Agg') \n",
    "import matplotlib.pyplot as plt\n",
    "from mpl_toolkits.mplot3d import Axes3D\n",
    "from matplotlib import cm\n",
    "from matplotlib.ticker import LinearLocator, FormatStrFormatter\n",
    "import seaborn as sns\n",
    "import pdb\n",
    "#import ipdb\n",
    "import h5py\n",
    "import importlib\n",
    "import pickle\n",
    "import math\n",
    "\n",
    "# Add root folder to sys path\n",
    "sys.path.append(\"../\")\n",
    "\n",
    "from load_expert_traj import recursively_save_dict_contents_to_group\n",
    "\n",
    "# %pylab inline\n",
    "# inline doesn't give interactive plots\n",
    "%matplotlib inline \n",
    "# %matplotlib notebook\n",
    "plt.rcParams['figure.figsize'] = (6.0, 6.0) # set default size of plots\n",
    "plt.rcParams['image.interpolation'] = 'nearest'\n",
    "plt.rcParams['image.cmap'] = 'Blues'\n",
    "\n",
    "sns.set()\n",
    "\n",
    "# for auto-reloading external modules\n",
    "# see http://stackoverflow.com/questions/1907993/autoreload-of-modules-in-ipython\n",
    "%load_ext autoreload\n",
    "%autoreload 2\n",
    "\n",
    "# Import own modules\n",
    "# Need to use importlib since module starts with a numerical value."
   ]
  },
  {
   "cell_type": "code",
   "execution_count": 2,
   "metadata": {
    "scrolled": false
   },
   "outputs": [
    {
     "ename": "FileNotFoundError",
     "evalue": "[Errno 2] No such file or directory: '../results/circle/gail/./results/circle/gail/meta_1_traj_100_opposite_circles_equal_radii_action_policy_output_normalized_context_2_goal_1_posterior_lambda_0.1_history_1_posterior_0.1_lr_1e-4_disc_normalized/results_cp_1900.pkl'",
     "output_type": "error",
     "traceback": [
      "\u001b[0;31m---------------------------------------------------------------------------\u001b[0m",
      "\u001b[0;31mFileNotFoundError\u001b[0m                         Traceback (most recent call last)",
      "\u001b[0;32m<ipython-input-2-7073cb68cc6f>\u001b[0m in \u001b[0;36m<module>\u001b[0;34m()\u001b[0m\n\u001b[1;32m     32\u001b[0m \u001b[0mresults_pkl_path\u001b[0m \u001b[0;34m=\u001b[0m \u001b[0;34m'../results/circle/gail/./results/circle/gail/meta_1_traj_100_opposite_circles_equal_radii_action_policy_output_normalized_context_2_goal_1_posterior_lambda_0.1_history_1_posterior_0.1_lr_1e-4_disc_normalized/results_cp_1900.pkl'\u001b[0m\u001b[0;34m\u001b[0m\u001b[0m\n\u001b[1;32m     33\u001b[0m \u001b[0;34m\u001b[0m\u001b[0m\n\u001b[0;32m---> 34\u001b[0;31m \u001b[0;32mwith\u001b[0m \u001b[0mopen\u001b[0m\u001b[0;34m(\u001b[0m\u001b[0mresults_pkl_path\u001b[0m\u001b[0;34m,\u001b[0m \u001b[0;34m'rb'\u001b[0m\u001b[0;34m)\u001b[0m \u001b[0;32mas\u001b[0m \u001b[0mresults_f\u001b[0m\u001b[0;34m:\u001b[0m\u001b[0;34m\u001b[0m\u001b[0m\n\u001b[0m\u001b[1;32m     35\u001b[0m     \u001b[0mresults_data\u001b[0m \u001b[0;34m=\u001b[0m \u001b[0mpickle\u001b[0m\u001b[0;34m.\u001b[0m\u001b[0mload\u001b[0m\u001b[0;34m(\u001b[0m\u001b[0mresults_f\u001b[0m\u001b[0;34m)\u001b[0m\u001b[0;34m\u001b[0m\u001b[0m\n\u001b[1;32m     36\u001b[0m \u001b[0;34m\u001b[0m\u001b[0m\n",
      "\u001b[0;31mFileNotFoundError\u001b[0m: [Errno 2] No such file or directory: '../results/circle/gail/./results/circle/gail/meta_1_traj_100_opposite_circles_equal_radii_action_policy_output_normalized_context_2_goal_1_posterior_lambda_0.1_history_1_posterior_0.1_lr_1e-4_disc_normalized/results_cp_1900.pkl'"
     ]
    }
   ],
   "source": [
    "def softmax(x):\n",
    "    if len(x.shape) == 2:\n",
    "        new_x = x - np.max(x,axis=1)[:, np.newaxis]\n",
    "        denom = np.sum(np.exp(new_x), axis = 1)[:, np.newaxis]\n",
    "        return np.exp(new_x)/denom\n",
    "    elif len(x.shape) == 1:\n",
    "        new_x = x - np.max(x)\n",
    "        denom = np.sum(np.exp(new_x))\n",
    "        return np.exp(new_x) / denom\n",
    "    else:\n",
    "        raise ValueError(\"incorrect softmax input\")\n",
    "                              \n",
    "def plot_circle(x_list, y_list, colors, title='', move_centre=False):\n",
    "    T = 60\n",
    "    if move_centre:\n",
    "        shift = 15\n",
    "        x_list_new = [x_list[i] + shift for i in range(T, len(x_list))]\n",
    "        x_list = x_list[:T] + x_list_new\n",
    "    plt.scatter(x_list, y_list, color=colors) \n",
    "    plt.axis('equal')    \n",
    "    plt.title(title)\n",
    "    plt.show()\n",
    "\n",
    "    \n",
    "# results_pkl_path = '../results/circle/vae/epoch_400_traj_40_meta_2_r_0.011_Aug_6_5_50_PM/results_cp_400.pkl'\n",
    "# results_pkl_path = '../results/vae/tmp/meta_1_traj_50_traj_len_180_policy_output_normalized_context_3_goal_1_history_5_epoch_1000_temperature_5_noisy_next_state_lr_1e-4/results_cp_500.pkl'\n",
    "# results_pkl_path = '../results/vae/tmp/meta_1_traj_50_traj_len_180_policy_output_normalized_context_2_goal_1_history_5_epoch_1000_temperature_5_noisy_next_state_lr_1e-4/results_605.pkl'\n",
    "# results_pkl_path = '../results/vae/tmp/meta_1_traj_50_traj_len_180_policy_output_normalized_context_2_goal_1_history_5_epoch_1000_temperature_5_no_noisy_next_state_lr_1e-4/results_cp_800.pkl'\n",
    "# results_pkl_path = '../results/vae/tmp/meta_1_traj_50_traj_len_180_policy_output_normalized_context_3_goal_1_history_5_epoch_1000_temperature_5_noisy_next_state/results_cp_1500.pkl'\n",
    "\n",
    "results_pkl_path = '../results/circle/vae/traj_meta_1_traj_100_opposite_circles_equal_radii_epoch_1000_batch_64_1-cos_cos_wt_ratio_50/results_1000.pkl'\n",
    "results_pkl_path = '../results/circle/gail/meta_1_traj_100_opposite_circles_equal_radii_action_policy_output_normalized_context_2_goal_1_posterior_lambda_0.1_history_1_posterior_0.1_lr_1e-4_disc_normalized/results_cp_1900.pkl'\n",
    "\n",
    "with open(results_pkl_path, 'rb') as results_f:\n",
    "    results_data = pickle.load(results_f)\n",
    "\n",
    "num_trajs = len(results_data['pred_traj_state'][0])\n",
    "context_colors = ['g', 'b', 'r', 'm', 'y', 'c', 'k', 'w']\n",
    "#markers = ['.', 'v', 'o', 's']\n",
    "\n",
    "# pdb.set_trace()\n",
    "\n",
    "x_pos_list, y_pos_list, c_list = [], [], []\n",
    "for i in range(num_trajs):\n",
    "    traj_state = np.array(results_data['pred_traj_state'][0][i]).squeeze()\n",
    "    traj_action = np.array(results_data['pred_traj_action'][0][i]).squeeze()\n",
    "    traj_context = np.array(results_data['pred_context'][0][i]).squeeze()\n",
    "    traj_context_label = np.argmax(traj_context, axis=1)\n",
    "    traj_context_color = [context_colors[i] for i in traj_context_label]\n",
    "    plot_circle(traj_state[:, 0].tolist(), traj_state[:, 1].tolist(),\n",
    "                traj_context_color,\n",
    "                move_centre=True)\n",
    "    plt.plot(traj_context_label)\n",
    "    plt.show()"
   ]
  }
 ],
 "metadata": {
  "kernelspec": {
   "display_name": "Python 3",
   "language": "python",
   "name": "python3"
  },
  "language_info": {
   "codemirror_mode": {
    "name": "ipython",
    "version": 3
   },
   "file_extension": ".py",
   "mimetype": "text/x-python",
   "name": "python",
   "nbconvert_exporter": "python",
   "pygments_lexer": "ipython3",
   "version": "3.6.4"
  }
 },
 "nbformat": 4,
 "nbformat_minor": 2
}
