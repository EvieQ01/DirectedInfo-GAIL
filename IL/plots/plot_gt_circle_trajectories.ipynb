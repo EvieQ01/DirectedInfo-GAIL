{
 "cells": [
  {
   "cell_type": "code",
   "execution_count": 1,
   "metadata": {
    "collapsed": true
   },
   "outputs": [],
   "source": [
    "% matplotlib inline\n",
    "\n",
    "import numpy as np\n",
    "import pandas as pd\n",
    "import json\n",
    "import sys\n",
    "import os\n",
    "import matplotlib\n",
    "#matplotlib.use('Agg') \n",
    "import matplotlib.pyplot as plt\n",
    "from mpl_toolkits.mplot3d import Axes3D\n",
    "from matplotlib import cm\n",
    "from matplotlib.ticker import LinearLocator, FormatStrFormatter\n",
    "import seaborn as sns\n",
    "import pdb\n",
    "#import ipdb\n",
    "import h5py\n",
    "import importlib\n",
    "import pickle\n",
    "import math\n",
    "\n",
    "# Add root folder to sys path\n",
    "sys.path.append(\"../\")\n",
    "\n",
    "from load_expert_traj import recursively_save_dict_contents_to_group\n",
    "\n",
    "# %pylab inline\n",
    "# inline doesn't give interactive plots\n",
    "%matplotlib inline \n",
    "# %matplotlib notebook\n",
    "plt.rcParams['figure.figsize'] = (6.0, 6.0) # set default size of plots\n",
    "plt.rcParams['image.interpolation'] = 'nearest'\n",
    "plt.rcParams['image.cmap'] = 'Blues'\n",
    "\n",
    "sns.set()\n",
    "\n",
    "# for auto-reloading external modules\n",
    "# see http://stackoverflow.com/questions/1907993/autoreload-of-modules-in-ipython\n",
    "%load_ext autoreload\n",
    "%autoreload 2\n",
    "\n",
    "# Import own modules\n",
    "# Need to use importlib since module starts with a numerical value."
   ]
  },
  {
   "cell_type": "code",
   "execution_count": 3,
   "metadata": {
    "scrolled": false
   },
   "outputs": [
    {
     "data": {
      "image/png": "[encoded data removed]",
      "text/plain": [
       "<Figure size 432x432 with 1 Axes>"
      ]
     },
     "metadata": {},
     "output_type": "display_data"
    }
   ],
   "source": [
    "# h5_path = '../h5_trajs/circle_trajs/meta_1_traj_50_normalized_action/expert_traj.h5'\n",
    "# h5_path = '../h5_trajs/circle_trajs/meta_2_traj_40_normalized_action/expert_traj.h5'\n",
    "# h5_path = '../h5_trajs/circle_trajs/meta_1_traj_50_normalized_action_fixed/expert_traj.h5'\n",
    "h5_path = '../h5_trajs/circle_trajs/meta_1_traj_1_len_105_inner_circle_constant_velocity/expert_traj.h5'\n",
    "\n",
    "h5_f = h5py.File(h5_path, 'r')\n",
    "for traj_key in h5_f['expert_traj'].keys():\n",
    "    states = np.array(h5_f['expert_traj'][traj_key]['state'])\n",
    "    action = np.array(h5_f['expert_traj'][traj_key]['action'])\n",
    "    goal = np.array(h5_f['expert_traj'][traj_key]['goal'])\n",
    "    if 'radius' in list(h5_f['expert_traj'][traj_key].keys()):\n",
    "        radius = np.array(h5_f['expert_traj'][traj_key]['radius'])\n",
    "    else:\n",
    "        radius = None\n",
    "    assert states.shape[0] == 104\n",
    "    \n",
    "    states_from_actions = [[states[0, 0], states[0, 1]]]\n",
    "    for i in range(action.shape[0]):\n",
    "        prev_state = states_from_actions[-1]\n",
    "        # radius_idx, w = i // 60, ((2 * np.pi) / 120.)\n",
    "        if i < 60:\n",
    "            radius_idx, w = 0, (2*math.pi)/60.0\n",
    "        elif i >= 60 and i < 90:\n",
    "            radius_idx, w = 1, (2*math.pi)/30.0\n",
    "        else:\n",
    "            radius_idx, w = 2, (2*math.pi)/15.0\n",
    "        assert radius_idx < 3, \"Invalid time input\"\n",
    "\n",
    "        if radius is not None:\n",
    "            r = radius[radius_idx]\n",
    "            dist = w * r\n",
    "        else:\n",
    "            dist = 1\n",
    "        next_state = [prev_state[0] + action[i, 0] * dist,\n",
    "                      prev_state[1] + action[i, 1] * dist]\n",
    "        states_from_actions.append(next_state)\n",
    "    state_from_action_arr = np.array(states_from_actions)\n",
    "    \n",
    "    colors = ['r'] * 60 + ['g'] * 30 + ['b'] * 14\n",
    "    # plt.scatter(states[:, 0], states[:, 1], color=colors)\n",
    "    plt.scatter(state_from_action_arr[:-1, 0].tolist(),\n",
    "                state_from_action_arr[:-1, 1].tolist(),\n",
    "                color=colors,\n",
    "                s=8)\n",
    "    plt.axis('equal')    \n",
    "    plt.show()\n",
    "\n",
    "h5_f.close()"
   ]
  }
 ],
 "metadata": {
  "kernelspec": {
   "display_name": "Python 3",
   "language": "python",
   "name": "python3"
  },
  "language_info": {
   "codemirror_mode": {
    "name": "ipython",
    "version": 2
   },
   "file_extension": ".py",
   "mimetype": "text/x-python",
   "name": "python",
   "nbconvert_exporter": "python",
   "pygments_lexer": "ipython2",
   "version": "2.7.6"
  }
 },
 "nbformat": 4,
 "nbformat_minor": 2
}
