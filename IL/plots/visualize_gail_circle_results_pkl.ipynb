{
 "cells": [
  {
   "cell_type": "code",
   "execution_count": 1,
   "metadata": {},
   "outputs": [
    {
     "name": "stderr",
     "output_type": "stream",
     "text": [
      "/home/arjun/anaconda3/lib/python3.6/site-packages/h5py/__init__.py:36: FutureWarning: Conversion of the second argument of issubdtype from `float` to `np.floating` is deprecated. In future, it will be treated as `np.float64 == np.dtype(float).type`.\n",
      "  from ._conv import register_converters as _register_converters\n"
     ]
    }
   ],
   "source": [
    "% matplotlib inline\n",
    "\n",
    "import numpy as np\n",
    "import pandas as pd\n",
    "import json\n",
    "import sys\n",
    "import os\n",
    "import matplotlib\n",
    "#matplotlib.use('Agg') \n",
    "import matplotlib.pyplot as plt\n",
    "from mpl_toolkits.mplot3d import Axes3D\n",
    "from matplotlib import cm\n",
    "from matplotlib.ticker import LinearLocator, FormatStrFormatter\n",
    "import seaborn as sns\n",
    "import pdb\n",
    "#import ipdb\n",
    "import h5py\n",
    "import importlib\n",
    "import pickle\n",
    "import math\n",
    "\n",
    "# Add root folder to sys path\n",
    "sys.path.append(\"../\")\n",
    "\n",
    "from load_expert_traj import recursively_save_dict_contents_to_group\n",
    "\n",
    "# %pylab inline\n",
    "# inline doesn't give interactive plots\n",
    "%matplotlib inline \n",
    "# %matplotlib notebook\n",
    "plt.rcParams['figure.figsize'] = (6.0, 6.0) # set default size of plots\n",
    "plt.rcParams['image.interpolation'] = 'nearest'\n",
    "plt.rcParams['image.cmap'] = 'Blues'\n",
    "\n",
    "sns.set()\n",
    "\n",
    "# for auto-reloading external modules\n",
    "# see http://stackoverflow.com/questions/1907993/autoreload-of-modules-in-ipython\n",
    "%load_ext autoreload\n",
    "%autoreload 2\n",
    "\n",
    "# Import own modules\n",
    "# Need to use importlib since module starts with a numerical value."
   ]
  },
  {
   "cell_type": "code",
   "execution_count": 2,
   "metadata": {
    "scrolled": false
   },
   "outputs": [
    {
     "ename": "NameError",
     "evalue": "name 'mohit_compose_pkl_path' is not defined",
     "output_type": "error",
     "traceback": [
      "\u001b[0;31m---------------------------------------------------------------------------\u001b[0m",
      "\u001b[0;31mNameError\u001b[0m                                 Traceback (most recent call last)",
      "\u001b[0;32m<ipython-input-2-da65e7ba53ea>\u001b[0m in \u001b[0;36m<module>\u001b[0;34m()\u001b[0m\n\u001b[1;32m     19\u001b[0m \u001b[0;31m#arjun_pkl_path = '../results/circle/gail/meta_1_traj_100_opposite_circles_equal_radii/action_policy_output_normalized/context_2_goal_1_history_1/disc_with_nextc_posterior_0.001_lr_1e-4_with_policy_l2_0.001/results_cp_600.pkl'\u001b[0m\u001b[0;34m\u001b[0m\u001b[0;34m\u001b[0m\u001b[0m\n\u001b[1;32m     20\u001b[0m \u001b[0;34m\u001b[0m\u001b[0m\n\u001b[0;32m---> 21\u001b[0;31m \u001b[0mpkl_path\u001b[0m \u001b[0;34m=\u001b[0m \u001b[0mmohit_compose_pkl_path\u001b[0m\u001b[0;34m\u001b[0m\u001b[0m\n\u001b[0m\u001b[1;32m     22\u001b[0m \u001b[0;34m\u001b[0m\u001b[0m\n\u001b[1;32m     23\u001b[0m \u001b[0;32mwith\u001b[0m \u001b[0mopen\u001b[0m\u001b[0;34m(\u001b[0m\u001b[0mpkl_path\u001b[0m\u001b[0;34m,\u001b[0m \u001b[0;34m'rb'\u001b[0m\u001b[0;34m)\u001b[0m \u001b[0;32mas\u001b[0m \u001b[0mpkl_f\u001b[0m\u001b[0;34m:\u001b[0m\u001b[0;34m\u001b[0m\u001b[0m\n",
      "\u001b[0;31mNameError\u001b[0m: name 'mohit_compose_pkl_path' is not defined"
     ]
    }
   ],
   "source": [
    "# pkl_path = '/tmp/mohit_circle_traj_smooth_transition_with_reward/results.pkl'\n",
    "# pkl_path = '../results/circle/vae/tmp/mohit_circle_traj_len_362_with_reward_no_history_in_policy/results.pkl'\n",
    "# pkl_path = '../results/vae/tmp/meta_1_traj_50_policy_output_normalized_context_3_goal_1_history_4/results_495.pkl'\n",
    "# pkl_path = '../results/vae/tmp/meta_1_traj_50_traj_len_180_policy_output_normalized_context_3_goal_1_history_5_epoch_1000_temperature_5_noisy_next_state/results_435.pkl'\n",
    "# pkl_path = '../results/vae/tmp/meta_1_traj_50_traj_len_180_policy_output_normalized_context_3_goal_1_history_5_epoch_1000_temperature_5_noisy_next_state_lr_1e-4/results_cp_500.pkl'\n",
    "# pkl_path = '../results/vae/tmp/meta_1_traj_50_traj_len_180_policy_output_normalized_context_3_goal_1_history_5_epoch_1000_temperature_5_noisy_next_state_lr_1e-4_different_omega/results_400.pkl'\n",
    "\n",
    "#arjun_pkl_path = '../results/circle/gail/old/meta_1_traj_100_opposite_circles_equal_radii_action_policy_output_normalized_context_2_goal_1_posterior_lambda_0.1_history_1_lr_1e-5_pretrained_policy/results/results_cp_4500.pkl'\n",
    "\n",
    "#mohit_pkl_path = '../results/circle/gail/meta_1_traj_100_opposite_circles_equal_radii_action_policy_output_normalized_context_2_goal_1_posterior_lambda_0.1_history_1_posterior_0.1_lr_1e-4/results_cp_3000.pkl'\n",
    "#mohit_pkl_path = '../results/circle/gail/meta_1_traj_100_opposite_circles_equal_radii_action_policy_output_normalized_context_2_goal_1_history_1_posterior_0.1_lr_1e-4/results_cp_1900.pkl'\n",
    "#mohit_pkl_path = '../results/circle/gail/meta_1_traj_100_opposite_circles_equal_radii_action_policy_output_normalized_context_2_goal_1_posterior_lambda_0.1_history_1_posterior_0.001_lr_1e-4/results_cp_2000.pkl'\n",
    "\n",
    "arjun_pkl_path = '../results/circle/gail/meta_1_traj_100_opposite_circles_equal_radii/action_policy_output_normalized/context_2_goal_1_history_1/disc_with_nextc_posterior_0.01_lr_1e-4_with_policy_l2_0.1/results_cp_600.pkl'\n",
    "#arjun_pkl_path = '../results/circle/gail/meta_1_traj_100_opposite_circles_equal_radii/action_policy_output_normalized/context_2_goal_1_history_1/disc_with_nextc_posterior_0.001_lr_1e-4_with_policy_l2_0.1/results_cp_600.pkl'\n",
    "#arjun_pkl_path = '../results/circle/gail/meta_1_traj_100_opposite_circles_equal_radii/action_policy_output_normalized/context_2_goal_1_history_1/disc_with_nextc_posterior_0.01_lr_1e-4_with_policy_l2_0.01/results_cp_600.pkl'\n",
    "#arjun_pkl_path = '../results/circle/gail/meta_1_traj_100_opposite_circles_equal_radii/action_policy_output_normalized/context_2_goal_1_history_1/disc_with_nextc_posterior_0.001_lr_1e-4_with_policy_l2_0.01/results_cp_600.pkl'\n",
    "#arjun_pkl_path = '../results/circle/gail/meta_1_traj_100_opposite_circles_equal_radii/action_policy_output_normalized/context_2_goal_1_history_1/disc_with_nextc_posterior_0.01_lr_1e-4_with_policy_l2_0.001/results_cp_600.pkl'\n",
    "#arjun_pkl_path = '../results/circle/gail/meta_1_traj_100_opposite_circles_equal_radii/action_policy_output_normalized/context_2_goal_1_history_1/disc_with_nextc_posterior_0.001_lr_1e-4_with_policy_l2_0.001/results_cp_600.pkl'\n",
    "\n",
    "pkl_path = arjun_pkl_path\n",
    "\n",
    "with open(pkl_path, 'rb') as pkl_f:\n",
    "    results_data = pickle.load(pkl_f)\n",
    "save_data_path = \\\n",
    "    '../circle_results/meta_1_traj_100_opposite_circles_equal_radii_action_policy_output_normalized_context_2_goal_1_posterior_lambda_0.1_history_1_posterior_0.001_lr_1e-4/'\n",
    "for i in range(len(results_data['pred_traj_state'][0])):\n",
    "    pred_traj = np.array(results_data['pred_traj_state'][0][i])[:,0,:]\n",
    "    true_traj = np.array(results_data['true_traj_state'][0][i])[:,0,:]\n",
    "    true_traj = np.reshape(true_traj, (true_traj.shape[0], -1))\n",
    "\n",
    "    colors = cm.rainbow(np.linspace(0, 1, pred_traj.shape[0]))\n",
    "    # sns.palplot(colors)\n",
    "    \n",
    "    fig = plt.figure(figsize=(8, 8))\n",
    "    ax = fig.add_subplot(1, 1, 1)\n",
    "    ax.scatter(pred_traj[:, 0].tolist(), pred_traj[:, 1].tolist(),\n",
    "               color=colors, s=16) \n",
    "    ax.axis('equal')    \n",
    "    ax.axes.xaxis.set_ticklabels([])\n",
    "    ax.axes.yaxis.set_ticklabels([])\n",
    "    ax.set_title(\"Predicted Trajectory\", fontsize=18)\n",
    "\n",
    "#     plt.savefig(\n",
    "#         '{}/result_{}.pdf'.format(save_data_path, i),\n",
    "#         bbox_inches='tight',\n",
    "#     )\n",
    "    plt.show()\n",
    "          \n",
    "    # plt.scatter(true_traj[:, 0].tolist(), true_traj[:, 1].tolist(), color=colors, s=8) \n",
    "    # plt.axis('equal')    \n",
    "    # plt.title(\"True traj\")\n",
    "    # plt.show()                    \n",
    "\n",
    "    pred_context = np.argmax(\n",
    "        np.reshape(np.array(results_data['pred_context'][0][i]), (119, -1)), axis=1)\n",
    "    plt.plot(pred_context.tolist())\n",
    "    plt.show()"
   ]
  },
  {
   "cell_type": "code",
   "execution_count": null,
   "metadata": {},
   "outputs": [],
   "source": []
  }
 ],
 "metadata": {
  "kernelspec": {
   "display_name": "Python 3",
   "language": "python",
   "name": "python3"
  },
  "language_info": {
   "codemirror_mode": {
    "name": "ipython",
    "version": 3
   },
   "file_extension": ".py",
   "mimetype": "text/x-python",
   "name": "python",
   "nbconvert_exporter": "python",
   "pygments_lexer": "ipython3",
   "version": "3.6.4"
  }
 },
 "nbformat": 4,
 "nbformat_minor": 2
}
