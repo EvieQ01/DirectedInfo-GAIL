{
 "cells": [
  {
   "cell_type": "code",
   "execution_count": 15,
   "metadata": {},
   "outputs": [
    {
     "name": "stdout",
     "output_type": "stream",
     "text": [
      "torch.Size([6, 2])\n",
      "tensor([[-1,  0],\n",
      "        [ 0,  1],\n",
      "        [ 1,  2],\n",
      "        [ 2,  3],\n",
      "        [ 3,  4],\n",
      "        [ 0, -1]])\n",
      "tensor([ 0,  1,  2,  3,  4, -1,  0,  1,  2,  3,  4, -1,  0,  1,  2,  3,  4, -1,\n",
      "         0,  1,  2,  3,  4, -1,  0,  1,  2,  3,  4, -1,  0,  1,  2,  3,  4, -1])\n",
      "tensor([-1, -1, -1, -1, -1, -1,  0,  0,  0,  0,  0,  0,  1,  1,  1,  1,  1,  1,\n",
      "         2,  2,  2,  2,  2,  2,  3,  3,  3,  3,  3,  3,  0,  0,  0,  0,  0,  0])\n",
      "tensor([[False,  True, False, False, False,  True],\n",
      "        [ True, False,  True, False, False, False],\n",
      "        [False,  True, False,  True, False, False],\n",
      "        [False, False,  True, False,  True, False],\n",
      "        [False, False, False,  True, False, False],\n",
      "        [ True, False, False, False, False, False]])\n"
     ]
    }
   ],
   "source": [
    "import torch\n",
    "size = 6\n",
    "a = [[i-1, i] for i in range(size-1)]\n",
    "a.append([0, -1])\n",
    "a = torch.tensor(a) # 10, 2\n",
    "# b = torch.tensor([[i + 5, i + 6] for i in range(10)]) # 10, 2\n",
    "print(a.shape)\n",
    "print(a)\n",
    "# print(b)\n",
    "\n",
    "view2 = torch.repeat_interleave(a[:, 0], size)\n",
    "view1 = a[:, 1].repeat(size)\n",
    "print(view1)\n",
    "print(view2)\n",
    "view = torch.bitwise_or(torch.bitwise_and((view1 == view2 ).reshape((size, -1)), a[:, 0] != -1), \\\n",
    "                    torch.bitwise_and((view1 == view2 ).reshape((size, -1)), a[:, 1] != -1))\n",
    "\n",
    "view = view + view.T\n",
    "print(view)"
   ]
  },
  {
   "cell_type": "code",
   "execution_count": null,
   "metadata": {},
   "outputs": [],
   "source": []
  },
  {
   "cell_type": "code",
   "execution_count": 24,
   "metadata": {},
   "outputs": [
    {
     "name": "stdout",
     "output_type": "stream",
     "text": [
      "torch.Size([6, 6, 2])\n",
      "tensor([[0, 1],\n",
      "        [1, 2],\n",
      "        [2, 3],\n",
      "        [3, 4],\n",
      "        [4, 5],\n",
      "        [5, 6]])\n",
      "tensor([[0.0000, 1.4142, 2.8284, 4.2426, 5.6569, 7.0711],\n",
      "        [1.4142, 0.0000, 1.4142, 2.8284, 4.2426, 5.6569],\n",
      "        [2.8284, 1.4142, 0.0000, 1.4142, 2.8284, 4.2426],\n",
      "        [4.2426, 2.8284, 1.4142, 0.0000, 1.4142, 2.8284],\n",
      "        [5.6569, 4.2426, 2.8284, 1.4142, 0.0000, 1.4142],\n",
      "        [7.0711, 5.6569, 4.2426, 2.8284, 1.4142, 0.0000]])\n",
      "tensor(0.7071)\n"
     ]
    }
   ],
   "source": [
    "import torch\n",
    "import numpy as np\n",
    "\n",
    "B = 6\n",
    "a = torch.tensor([[i, i+1] for i in range(B)]) # 8, 2\n",
    "dist = a.unsqueeze(0) - a.unsqueeze(1)\n",
    "print(dist.shape)\n",
    "print(a)\n",
    "# print(np.linalg.norm(np.array(dist), ord=2, axis=-1))\n",
    "print(torch.sqrt(torch.sum(dist*dist, dim=-1)))\n",
    "dist_loss = torch.mean(torch.sqrt(torch.sum(dist*dist, dim=-1)) * view)\n",
    "\n",
    "print(dist_loss)"
   ]
  }
 ],
 "metadata": {
  "kernelspec": {
   "display_name": "Python 3.9.7 ('base')",
   "language": "python",
   "name": "python3"
  },
  "language_info": {
   "codemirror_mode": {
    "name": "ipython",
    "version": 3
   },
   "file_extension": ".py",
   "mimetype": "text/x-python",
   "name": "python",
   "nbconvert_exporter": "python",
   "pygments_lexer": "ipython3",
   "version": "3.9.7"
  },
  "orig_nbformat": 4,
  "vscode": {
   "interpreter": {
    "hash": "756c5b39a1759bb8280543e17cb23b0721718263a1137637ff095ac54da17e58"
   }
  }
 },
 "nbformat": 4,
 "nbformat_minor": 2
}
