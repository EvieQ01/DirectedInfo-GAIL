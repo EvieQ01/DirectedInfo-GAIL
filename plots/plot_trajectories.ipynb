{
 "cells": [
  {
   "cell_type": "code",
   "execution_count": 1,
   "metadata": {},
   "outputs": [],
   "source": [
    "% matplotlib inline\n",
    "\n",
    "import numpy as np\n",
    "import pandas as pd\n",
    "import json\n",
    "import sys\n",
    "import os\n",
    "import matplotlib\n",
    "#matplotlib.use('Agg') \n",
    "import matplotlib.pyplot as plt\n",
    "from mpl_toolkits.mplot3d import Axes3D\n",
    "from matplotlib import cm\n",
    "from matplotlib.ticker import LinearLocator, FormatStrFormatter\n",
    "import seaborn as sns\n",
    "import pdb\n",
    "import h5py\n",
    "import importlib\n",
    "\n",
    "# Add root folder to sys path\n",
    "sys.path.append(\"../\")\n",
    "\n",
    "# %pylab inline\n",
    "# inline doesn't give interactive plots\n",
    "%matplotlib inline \n",
    "# %matplotlib notebook\n",
    "plt.rcParams['figure.figsize'] = (12.0, 12.0) # set default size of plots\n",
    "plt.rcParams['image.interpolation'] = 'nearest'\n",
    "plt.rcParams['image.cmap'] = 'Blues'\n",
    "\n",
    "sns.set()\n",
    "\n",
    "# for auto-reloading external modules\n",
    "# see http://stackoverflow.com/questions/1907993/autoreload-of-modules-in-ipython\n",
    "%load_ext autoreload\n",
    "%autoreload 2\n",
    "\n",
    "# Import own modules\n",
    "# Need to use importlib since module starts with a numerical value.\n",
    "\n",
    "from load_expert_traj import Expert, ExpertHDF5\n",
    "\n",
    "plt.rcParams['figure.figsize'] = (5.0, 5.0) # set default size of plots"
   ]
  },
  {
   "cell_type": "code",
   "execution_count": 2,
   "metadata": {},
   "outputs": [],
   "source": [
    "def plot_data_n_colors_policy(data, grid_size, policy,\n",
    "                              bounds=[-100, -0.5, 0.5, 1000],\n",
    "                              color_map=['black', 'grey', 'red'],\n",
    "                              save_path=''):\n",
    "    \n",
    "    cmap = matplotlib.colors.ListedColormap(color_map)\n",
    "    norm = matplotlib.colors.BoundaryNorm(bounds, cmap.N)\n",
    "\n",
    "    fig = plt.figure()\n",
    "    ax = fig.add_subplot(1, 1, 1)\n",
    "    ax.imshow(data, cmap=cmap, norm=norm, extent=[0, grid_size, 0, grid_size],\n",
    "              )\n",
    "\n",
    "    ax.get_xaxis().set_ticklabels([])\n",
    "    ax.get_yaxis().set_ticklabels([])\n",
    "    ax.grid(True)\n",
    "    ax.autoscale(enable=False)\n",
    "\n",
    "    for a, m in [(0, '>'), (1, 'v'), (2, '<'), (3, '^')]:\n",
    "        if len(np.where(policy == a)) > 0:\n",
    "            x, y = np.where(policy == a)\n",
    "            # Why this weird math?\n",
    "            # Original grid map has origin at top left (usual for images).\n",
    "            # imshow (above) has a property `extent` which allows us to define the origin\n",
    "            # location when rendering. But ax.scatter (below) doesn't have such an API,\n",
    "            # it rather defines origin at  bottom left corner hence to convert to top left\n",
    "            # we do the below math.\n",
    "            ax.scatter(x=y + 0.5, y=grid_size - 1 - x + 0.5, c='r',\n",
    "                       s=120, marker=m, edgecolors='none')\n",
    "    if len(save_path) > 0:\n",
    "        fig.savefig(save_path)\n",
    "        \n",
    "    fig.show()\n",
    "    \n",
    "def plot_trajectory(traj_data, grid_size,\n",
    "                    bounds=[-100, -.5, .5, 100],\n",
    "                    color_map=['black', 'grey', 'red'],\n",
    "                    save_path='', figsize=(6,6)):\n",
    "    cmap = matplotlib.colors.ListedColormap(color_map)\n",
    "    norm = matplotlib.colors.BoundaryNorm(bounds, cmap.N)\n",
    "\n",
    "    fig = plt.figure(figsize=figsize)\n",
    "    ax = fig.add_subplot(1, 1, 1)\n",
    "    ax.imshow(np.ones((grid_size, grid_size)), \n",
    "              cmap=cmap,\n",
    "              norm=norm,\n",
    "              extent=[0, grid_size, 0, grid_size],\n",
    "              interpolation='none', aspect='equal'\n",
    "              )\n",
    "\n",
    "    #ax.get_xaxis().set_ticklabels([])\n",
    "    #ax.get_yaxis().set_ticklabels([])\n",
    "    ax.set_xticks(range(grid_size))\n",
    "    ax.set_yticks(range(grid_size))\n",
    "    ax.grid(True)    \n",
    "\n",
    "    for i in range(traj_data.shape[0]):\n",
    "        x, y = traj_data[i, 0], traj_data[i, 1]\n",
    "        ax.scatter(x=y + 0.5, y=grid_size - 1 - x + 0.5, c='r',\n",
    "                       s=120, marker='.', edgecolors='none')\n",
    "\n",
    "    if len(save_path) > 0:\n",
    "        fig.savefig(save_path)\n",
    "    \n",
    "    fig.tight_layout()\n",
    "    #fig.show()\n"
   ]
  },
  {
   "cell_type": "code",
   "execution_count": 3,
   "metadata": {
    "scrolled": false
   },
   "outputs": [
    {
     "name": "stdout",
     "output_type": "stream",
     "text": [
      "21\n"
     ]
    },
    {
     "data": {
      "image/png": "[encoded data removed]",
      "text/plain": [
       "<matplotlib.figure.Figure at 0x112d3a278>"
      ]
     },
     "metadata": {},
     "output_type": "display_data"
    }
   ],
   "source": [
    "def plot_expert_trajectories_from_h5(expert_h5_path, num_traj_to_plot=10):\n",
    "    expert = ExpertHDF5(expert_h5_path, 2)\n",
    "    # Push data into memory\n",
    "    expert.push()\n",
    "    \n",
    "    expert_data = expert.sample(num_traj_to_plot)\n",
    "    \n",
    "    for i in range(num_traj_to_plot):\n",
    "        ep_states = expert_data.state[i]\n",
    "        ep_actions = expert_data.action[i]\n",
    "        # get (x, y) states for trajectories\n",
    "        ep_positions = ep_states[:, :2]\n",
    "        # Plot trajectory\n",
    "        plot_trajectory(ep_positions,\n",
    "                        21,\n",
    "                        color_map=sns.color_palette(\"Blues_r\"),\n",
    "                        figsize=(6, 6))\n",
    "\n",
    "\n",
    "plot_expert_trajectories_from_h5('../h5_trajs/diverse_path_trajs',\n",
    "                                 num_traj_to_plot=1,\n",
    "                                 )"
   ]
  }
 ],
 "metadata": {
  "kernelspec": {
   "display_name": "Python 3",
   "language": "python",
   "name": "python3"
  },
  "language_info": {
   "codemirror_mode": {
    "name": "ipython",
    "version": 3
   },
   "file_extension": ".py",
   "mimetype": "text/x-python",
   "name": "python",
   "nbconvert_exporter": "python",
   "pygments_lexer": "ipython3",
   "version": "3.6.1"
  }
 },
 "nbformat": 4,
 "nbformat_minor": 2
}
